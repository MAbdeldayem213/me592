{
 "cells": [
  {
   "cell_type": "code",
   "execution_count": 1,
   "id": "266480cf-b046-4c92-8a7c-2605938f01e5",
   "metadata": {},
   "outputs": [],
   "source": [
    "import pandas as pd\n",
    "import numpy as np\n",
    "from scipy.stats import kurtosis, skew"
   ]
  },
  {
   "cell_type": "markdown",
   "id": "51c088f5-5977-48c6-bcdb-06095448aef2",
   "metadata": {},
   "source": [
    "Load the data"
   ]
  },
  {
   "cell_type": "code",
   "execution_count": 2,
   "id": "1da92bb1-0595-44e3-b40b-1aa99b779631",
   "metadata": {},
   "outputs": [],
   "source": [
    "url = \"https://archive.ics.uci.edu/ml/machine-learning-databases/00291/airfoil_self_noise.dat\"\n",
    "column_names = [\"Frequency\", \"Angle_of_Attack\", \"Chord_Length\", \"Free_stream_Velocity\", \"Displacement_Thickness\", \"Sound_Pressure_Level\"]\n",
    "data = pd.read_csv(url, sep=\"\\t\", names=column_names)"
   ]
  },
  {
   "cell_type": "markdown",
   "id": "15e3cd61-1819-4e46-a9a5-27b715585041",
   "metadata": {},
   "source": [
    "Compute descriptive statistics"
   ]
  },
  {
   "cell_type": "code",
   "execution_count": 3,
   "id": "d582b6ae-ba49-4d40-8ed6-92e899f2ba2f",
   "metadata": {},
   "outputs": [
    {
     "name": "stdout",
     "output_type": "stream",
     "text": [
      "                               Mean      Variance  Standard_Deviation  \\\n",
      "Frequency               2886.380572  9.938717e+06         3152.573137   \n",
      "Angle_of_Attack            6.782302  3.502424e+01            5.918128   \n",
      "Chord_Length               0.136548  8.749868e-03            0.093541   \n",
      "Free_stream_Velocity      50.860745  2.425116e+02           15.572784   \n",
      "Displacement_Thickness     0.011140  1.729287e-04            0.013150   \n",
      "Sound_Pressure_Level     124.835943  4.759146e+01            6.898657   \n",
      "\n",
      "                             Median  Kurtosis  Skewness         Range  \n",
      "Frequency               1600.000000  5.685722  2.134951  19800.000000  \n",
      "Angle_of_Attack            5.400000 -0.415568  0.688476     22.200000  \n",
      "Chord_Length               0.101600 -1.038504  0.457001      0.279400  \n",
      "Free_stream_Velocity      39.600000 -1.562743  0.235617     39.600000  \n",
      "Displacement_Thickness     0.004957  2.207539  1.700465      0.058011  \n",
      "Sound_Pressure_Level     125.721000 -0.317132 -0.418534     37.607000  \n"
     ]
    }
   ],
   "source": [
    "descriptive_stats = pd.DataFrame({\n",
    "    'Mean': data.mean(),\n",
    "    'Variance': data.var(),\n",
    "    'Standard_Deviation': data.std(),\n",
    "    'Median': data.median(),\n",
    "    'Kurtosis': kurtosis(data),\n",
    "    'Skewness': skew(data),\n",
    "    'Range': data.max() - data.min()\n",
    "})\n",
    "\n",
    "print(descriptive_stats)"
   ]
  },
  {
   "cell_type": "code",
   "execution_count": null,
   "id": "2f993219-6bc3-4f28-9dbc-6dc956886916",
   "metadata": {},
   "outputs": [],
   "source": []
  }
 ],
 "metadata": {
  "kernelspec": {
   "display_name": "me592",
   "language": "python",
   "name": "me592"
  },
  "language_info": {
   "codemirror_mode": {
    "name": "ipython",
    "version": 3
   },
   "file_extension": ".py",
   "mimetype": "text/x-python",
   "name": "python",
   "nbconvert_exporter": "python",
   "pygments_lexer": "ipython3",
   "version": "3.8.13"
  }
 },
 "nbformat": 4,
 "nbformat_minor": 5
}
